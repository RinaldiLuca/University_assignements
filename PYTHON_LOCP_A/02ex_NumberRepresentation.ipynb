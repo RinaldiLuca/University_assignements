{
 "cells": [
  {
   "cell_type": "markdown",
   "metadata": {},
   "source": [
    "1\\. Write a function that converts number representation (bin<->dec<->hex)"
   ]
  },
  {
   "cell_type": "code",
   "execution_count": 1,
   "metadata": {},
   "outputs": [
    {
     "name": "stdout",
     "output_type": "stream",
     "text": [
      "0x82\n",
      "130\n",
      "0x3a36\n"
     ]
    }
   ],
   "source": [
    "def convert(num,base):\n",
    "    \"\"\"Convert numbers in: \n",
    "           b --> binary\n",
    "           d --> decimal\n",
    "           h --> hexadecimal\"\"\"\n",
    "    if base==\"b\": return bin(num)\n",
    "    elif base==\"d\": return int(num)\n",
    "    else: return hex(num)\n",
    "\n",
    "print(convert(130,\"h\"))\n",
    "print(convert(130,\"d\"))\n",
    "print(convert(14902,\"h\"))\n",
    "\n"
   ]
  },
  {
   "cell_type": "markdown",
   "metadata": {},
   "source": [
    "2\\. Write a function that converts a 32 bit word into a single precision floating point (i.e. interprets the various bits as sign, mantissa and exponent)"
   ]
  },
  {
   "cell_type": "code",
   "execution_count": 2,
   "metadata": {},
   "outputs": [
    {
     "data": {
      "text/plain": [
       "1.316553672920962e-36"
      ]
     },
     "execution_count": 2,
     "metadata": {},
     "output_type": "execute_result"
    }
   ],
   "source": [
    "def strtofloat(a):\n",
    "    m=1\n",
    "    for i,y in zip(range(9,23),range(1,24)):\n",
    "        m+=int(a[i])/(2**y)\n",
    "    return ((-1)**(int(a[0])))*m*2**(int(\"0b\"+a[1:9],2)-127)\n",
    "\n",
    "\n",
    "strtofloat(\"00000011111000000000000000000000\")\n",
    "    "
   ]
  },
  {
   "cell_type": "markdown",
   "metadata": {},
   "source": [
    "3\\. Write a program to determine the underflow and overflow limits (within a factor of 2) for python on your computer. \n",
    "\n",
    "**Tips**: define two variables inizialized to 1 and halve/double them enough time to exceed the under/over-flow limits  "
   ]
  },
  {
   "cell_type": "code",
   "execution_count": 1,
   "metadata": {},
   "outputs": [
    {
     "name": "stdout",
     "output_type": "stream",
     "text": [
      "5e-324\n",
      "8.98846567431158e+307\n"
     ]
    }
   ],
   "source": [
    "def underfl():\n",
    "    a=1\n",
    "    while a/2 !=0:\n",
    "        a/=2\n",
    "    return a\n",
    "\n",
    "def overfl():\n",
    "    a=1.\n",
    "    while a*2 !=float(\"inf\"):\n",
    "        a*=2\n",
    "    return a\n",
    "\n",
    "print(underfl())\n",
    "print(overfl())"
   ]
  },
  {
   "cell_type": "markdown",
   "metadata": {},
   "source": [
    "4\\. Write a program to determine the machine precision\n",
    "\n",
    "**Tips**: define a new variable by adding a smaller and smaller value (proceeding similarly to prob. 2) to an original variable and check the point where the two are the same "
   ]
  },
  {
   "cell_type": "code",
   "execution_count": 40,
   "metadata": {},
   "outputs": [
    {
     "name": "stdout",
     "output_type": "stream",
     "text": [
      "The number is accurate until 15 orders of magnitude less than the most significant digit of itself\n"
     ]
    }
   ],
   "source": [
    "def precision():\n",
    "    a=1.0\n",
    "    i=1.0\n",
    "    while a+1*10**-i != a:\n",
    "        i+=1\n",
    "    return i\n",
    "print(\"The number is accurate until %i orders of magnitude less than the most significant digit of itself\" %(precision()-1))"
   ]
  },
  {
   "cell_type": "markdown",
   "metadata": {},
   "source": [
    "5\\. Write a function that takes in input three parameters $a$, $b$ and $c$ and prints out the two solutions to the quadratic equation $ax^2+bx+c=0$ using the standard formula:\n",
    "$$\n",
    "x=\\frac{-b\\pm\\sqrt{b^2-4ac}}{2a}\n",
    "$$\n",
    "\n",
    "(a) use the program to compute the solution for $a=0.001$, $b=1000$ and $c=0.001$\n",
    "\n",
    "(b) re-express the standard solution formula by multiplying top and bottom by $-b\\mp\\sqrt{b^2-4ac}$ and again find the solution for $a=0.001$, $b=1000$ and $c=0.001$. How does it compare with what previously obtained? Why?\n",
    "\n",
    "(c) write a function that compute the roots of a quadratic equation accurately in all cases"
   ]
  },
  {
   "cell_type": "code",
   "execution_count": 59,
   "metadata": {},
   "outputs": [
    {
     "name": "stdout",
     "output_type": "stream",
     "text": [
      "999999.999996\n",
      "999.999999998\n",
      "-999999.999999\n",
      "-9.999894245993346e-07\n"
     ]
    }
   ],
   "source": [
    "print(1e6-4*1e-6)\n",
    "a=m.sqrt(1e6-4*1e-6)\n",
    "print(a)\n",
    "print((-1e3-a)/2e-3)\n",
    "print((-1e3+a)/2e-3)"
   ]
  },
  {
   "cell_type": "code",
   "execution_count": 83,
   "metadata": {},
   "outputs": [
    {
     "name": "stdout",
     "output_type": "stream",
     "text": [
      "First solver: x1=-9.999894245993346e-07 \n",
      "              x2=-9.999999999990000e+05\n",
      "Second solver: x1=-1.000000000001000e-06 \n",
      "               x2=-1.000010575512506e+06\n",
      "Last solver: x1=-1.000000000001000e-06 \n",
      "             x2=-9.999999999990000e+05\n"
     ]
    }
   ],
   "source": [
    "import math as m\n",
    "def solver_a(a,b,c):\n",
    "    x1=(-b+m.sqrt(b*b-4*a*c))/(2*a)\n",
    "    x2=(-b-m.sqrt(b*b-4*a*c))/(2*a)\n",
    "    return x1,x2\n",
    "\n",
    "def solver_b(a,b,c):\n",
    "    x1=2*c/(-b-m.sqrt(b*b-4*a*c))\n",
    "    x2=2*c/(-b+m.sqrt(b*b-4*a*c))\n",
    "    return x1,x2\n",
    "\n",
    "def solver_c(a,b,c):\n",
    "    if b>0:\n",
    "        x1=2*c/(-b-m.sqrt(b*b-4*a*c))    #from solver_b\n",
    "        x2=(-b-m.sqrt(b*b-4*a*c))/(2*a)  #from solver_a\n",
    "    else:\n",
    "        x1=(-b+m.sqrt(b*b-4*a*c))/(2*a)  #from solver_a\n",
    "        x2=2*c/(-b+m.sqrt(b*b-4*a*c))    #from solver_b\n",
    "    return x1,x2\n",
    "    \n",
    "#a\n",
    "print(\"First solver: x1=%.15e \\n              x2=%.15e\"%(solver_a(0.001,1000,0.001)))\n",
    "\n",
    "#b\n",
    "print(\"Second solver: x1=%.15e \\n               x2=%.15e\"%(solver_b(0.001,1000,0.001)))\n",
    "#  In this case x1 is more accurate because b has the same sign as the rootsquare: \n",
    "#  subtracting numbers close in value could lose some information\n",
    "\n",
    "#c\n",
    "print(\"Last solver: x1=%.15e \\n             x2=%.15e\"%(solver_c(0.001,1000,0.001)))"
   ]
  },
  {
   "cell_type": "markdown",
   "metadata": {},
   "source": [
    "6\\. Write a program that implements the function $f(x)=x(x−1)$\n",
    "\n",
    "(a) Calculate the derivative of the function at the point $x = 1$ using the derivative definition:\n",
    "\n",
    "$$\n",
    "\\frac{{\\rm d}f}{{\\rm d}x} = \\lim_{\\delta\\to0} \\frac{f(x+\\delta)-f(x)}{\\delta}\n",
    "$$\n",
    "\n",
    "with $\\delta = 10^{−2}$. Calculate the true value of the same derivative analytically and compare with the answer your program gives. The two will not agree perfectly. Why not?\n",
    "\n",
    "(b) Repeat the calculation for $\\delta = 10^{−4}, 10^{−6}, 10^{−8}, 10^{−10}, 10^{−12}$ and $10^{−14}$. How does the accuracy scales with $\\delta$?"
   ]
  },
  {
   "cell_type": "code",
   "execution_count": 19,
   "metadata": {},
   "outputs": [
    {
     "name": "stdout",
     "output_type": "stream",
     "text": [
      "Derivarive in x=1 with delta=1e-2 --> 1.010000000000001\n",
      "Derivative in x=1 analitically    --> 1.000000 \n",
      "\n",
      "Derivarive in x=1 with delta=1e-4 --> 1.000099999999890\n",
      "Derivarive in x=1 with delta=1e-6 --> 1.000000999917733\n",
      "Derivarive in x=1 with delta=1e-8 --> 1.000000003922529\n",
      "Derivarive in x=1 with delta=1e-10 --> 1.000000082840371\n",
      "Derivarive in x=1 with delta=1e-12 --> 1.000088900583341\n",
      "Derivarive in x=1 with delta=1e-14 --> 0.999200722162651\n"
     ]
    }
   ],
   "source": [
    "def func1(x):\n",
    "    return x*(x-1)\n",
    "\n",
    "def derivative(f,h):\n",
    "    def df(x):\n",
    "        return (f(x+h)-f(x))/h\n",
    "    return df\n",
    "\n",
    "#a\n",
    "print(\"Derivarive in x=1 with delta=1e-2 --> %.15f\"%(derivative(func1,1e-2)(1)))\n",
    "print(\"Derivative in x=1 analitically    --> %f \\n\"%(2*1-1))\n",
    "# the two not agree perfectly because the computed solution it's just an approximation: delta is taken=0.01 \n",
    "# instead the limit going to zero\n",
    "\n",
    "#b\n",
    "for i in range(4,15,2):\n",
    "    print(\"Derivarive in x=1 with delta=1e-%i --> %.15f\"%(i,derivative(func1,10**-i)(1)))\n",
    "# decreasing delta makes accuracy increase. \n",
    "# This is true until delta=1e-8, when delta became smaller the accuracy decrease due to catastrofic cancellation\n",
    "# at the term f(x+h)"
   ]
  },
  {
   "cell_type": "markdown",
   "metadata": {},
   "source": [
    "7\\. Consider the integral of the semicircle of radius 1:\n",
    "$$\n",
    "I=\\int_{-1}^{1} \\sqrt(1-x^2) {\\rm d}x\n",
    "$$\n",
    "which it's known to be $I=\\frac{\\pi}{2}=1.57079632679...$.\n",
    "Alternatively we can use the Riemann definition of the integral:\n",
    "$$\n",
    "I=\\lim_{N\\to\\infty} \\sum_{k=1}^{N} h y_k \n",
    "$$\n",
    "\n",
    "with $h=2/N$ the width of each of the $N$ slices the domain is divided into and where\n",
    "$y_k$ is the value of the function at the $k-$th slice.\n",
    "\n",
    "(a) Write a programe to compute the integral with $N=100$. How does the result compares to the true value?\n",
    "\n",
    "(b) How much can $N$ be increased if the computation needs to be run in less than a second? What is the gain in running it for 1 minute? \n"
   ]
  },
  {
   "cell_type": "code",
   "execution_count": 1,
   "metadata": {},
   "outputs": [],
   "source": [
    "#import timeit\n",
    "#mysetup= '''\n",
    "import math as m\n",
    "#'''\n",
    "\n",
    "#mycode='''\n",
    "def semicircle(x):\n",
    "    return m.sqrt(1-x*x)\n",
    "\n",
    "def riemann(f,a,b,n):\n",
    "    h=(b-a)/n\n",
    "    r=0\n",
    "    for k in range(n):\n",
    "        r+=h*f(a+(b-a)*(k+0.5)/n) # the +0.5 allow to point in the middle point of the k-th slice\n",
    "    return r\n",
    "\n",
    "#riemann(semicircle,-1,1,10000000)\n",
    "#'''\n",
    "      \n",
    "#print(timeit.timeit(stmt=mycode, setup=mysetup, number=10)/10)\n"
   ]
  },
  {
   "cell_type": "code",
   "execution_count": 3,
   "metadata": {},
   "outputs": [
    {
     "name": "stdout",
     "output_type": "stream",
     "text": [
      "Integrale con n=100 --> 1.571282776229796\n",
      "Integrale con n=1000 --> 1.570811728409957\n",
      "Integrale con n=10000 --> 1.570796813896028\n",
      "Integrale con n=100000 --> 1.570796342198576\n",
      "Integrale con n=1000000 --> 1.570796327282045\n",
      "Integrale con n=10000000 --> 1.570796326810060\n",
      "Integrale con n=100000000 --> 1.570796326795544\n"
     ]
    }
   ],
   "source": [
    "#a\n",
    "#  The integral computed with n=100 differs from the exact value at the third digit after the decimal point\n",
    "\n",
    "#b\n",
    "#  Here there's the average over 10 runs for the computing time (s) of my script.\n",
    "# \n",
    "#n=100      --> 0.00011410209999667132\n",
    "#n=1000     --> 0.0008468842999718618\n",
    "#n=10000    --> 0.004501106699990487\n",
    "#n=100000   --> 0.03814562010002191\n",
    "#n=1000000  --> 0.35572693710000747\n",
    "#n=10000000 --> 3.5065941144000137\n",
    "# \n",
    "#  In order to execute the code in less than a second we can increase n at the order of 10e6;\n",
    "#  the result will be exact until 8 orders of magnitude less than the most significant digit.\n",
    "#  \n",
    "#  Looking at the trend of the precision vs computing time, running the script for a minute (instead of a\n",
    "#  second) led to a result exact until the 12/13-th digit after decimal point.\n",
    "#  This means gaining other 4/5 orders of magnitude of accuracy.\n",
    "\n",
    "\n",
    "for i in range(2,9):\n",
    "    print(\"Integrale con n=%i --> %.15f\"%(10**i,riemann(semicircle,-1,1,10**i)))"
   ]
  },
  {
   "cell_type": "code",
   "execution_count": null,
   "metadata": {},
   "outputs": [],
   "source": []
  }
 ],
 "metadata": {
  "kernelspec": {
   "display_name": "Python 3",
   "language": "python",
   "name": "python3"
  },
  "language_info": {
   "codemirror_mode": {
    "name": "ipython",
    "version": 3
   },
   "file_extension": ".py",
   "mimetype": "text/x-python",
   "name": "python",
   "nbconvert_exporter": "python",
   "pygments_lexer": "ipython3",
   "version": "3.8.3"
  }
 },
 "nbformat": 4,
 "nbformat_minor": 2
}
