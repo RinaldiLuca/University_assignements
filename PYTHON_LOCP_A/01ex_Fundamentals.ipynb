{
 "cells": [
  {
   "cell_type": "markdown",
   "metadata": {},
   "source": [
    "1\\. Write the following as a list comprehension"
   ]
  },
  {
   "cell_type": "code",
   "execution_count": 8,
   "metadata": {},
   "outputs": [
    {
     "name": "stdout",
     "output_type": "stream",
     "text": [
      "[(0, 0), (0, 1), (0, 2), (0, 3), (1, 0), (1, 1), (1, 2), (1, 3), (2, 0), (2, 1), (2, 2), (2, 3)]\n",
      "[0, 4, 16]\n"
     ]
    }
   ],
   "source": [
    "# 1\n",
    "ans = []\n",
    "for i in range(3):\n",
    "    for j in range(4):\n",
    "        ans.append((i, j))\n",
    "print (ans)\n",
    "\n",
    "# 2\n",
    "ans = map(lambda x: x*x, filter(lambda x: x%2 == 0, range(5)))\n",
    "print (list(ans))\n",
    "\n"
   ]
  },
  {
   "cell_type": "code",
   "execution_count": 15,
   "metadata": {},
   "outputs": [
    {
     "name": "stdout",
     "output_type": "stream",
     "text": [
      "[(0, 0), (0, 1), (0, 2), (0, 3), (1, 0), (1, 1), (1, 2), (1, 3), (2, 0), (2, 1), (2, 2), (2, 3)]\n",
      "[0, 4, 16]\n",
      "[0, 4, 16]\n"
     ]
    }
   ],
   "source": [
    "#1\n",
    "print([(i,j) for i in range(3) for j in range(4)])\n",
    "\n",
    "#2\n",
    "print(list(map(lambda x: x*x, filter(lambda x: x%2 ==0, range(5)))))\n",
    "#2.1\n",
    "print([y for y in map(lambda x: x*x, filter(lambda x: x%2 ==0, range(5)))])"
   ]
  },
  {
   "cell_type": "markdown",
   "metadata": {},
   "source": [
    "2\\. Convert the following function into a pure function with no global variables or side effects"
   ]
  },
  {
   "cell_type": "code",
   "execution_count": 1,
   "metadata": {},
   "outputs": [
    {
     "name": "stdout",
     "output_type": "stream",
     "text": [
      "[1, 2, 3, 0, 1, 2, 3, 4]\n",
      "[1, 2, 3, 0, 1, 2, 3, 4]\n"
     ]
    }
   ],
   "source": [
    "x = 5\n",
    "def f(alist):\n",
    "    for i in range(x):\n",
    "         alist.append(i)\n",
    "    return alist\n",
    "\n",
    "alist = [1,2,3]\n",
    "ans = f(alist)\n",
    "print (ans)\n",
    "print (alist) # alist has been changed!"
   ]
  },
  {
   "cell_type": "code",
   "execution_count": 7,
   "metadata": {},
   "outputs": [
    {
     "name": "stdout",
     "output_type": "stream",
     "text": [
      "[1, 2, 3, 0, 1, 2, 3, 4]\n",
      "[1, 2, 3]\n"
     ]
    }
   ],
   "source": [
    "x = 5\n",
    "def f(y):\n",
    "    blist=[z for z in y]\n",
    "    for i in range(x):\n",
    "         blist.append(i)\n",
    "    return blist\n",
    "\n",
    "alist = [1,2,3]\n",
    "ans = f(alist)\n",
    "print (ans)\n",
    "print (alist) # alist has been changed!"
   ]
  },
  {
   "cell_type": "markdown",
   "metadata": {},
   "source": [
    "3\\. Write a `decorator` hello that makes every wrapped function print “Hello!”, i.e. something like:\n",
    "\n",
    "```python\n",
    "@hello\n",
    "def square(x):\n",
    "    return x*x\n",
    "```\n",
    "\n"
   ]
  },
  {
   "cell_type": "code",
   "execution_count": 33,
   "metadata": {},
   "outputs": [
    {
     "name": "stdout",
     "output_type": "stream",
     "text": [
      "Hello!\n",
      "25\n"
     ]
    }
   ],
   "source": [
    "def hello(f):\n",
    "    def wrap(x):\n",
    "        print(\"Hello!\")\n",
    "        return f(x)\n",
    "    return wrap\n",
    "\n",
    "@hello\n",
    "def square(x):\n",
    "    return x*x\n",
    "\n",
    "print(square(5))"
   ]
  },
  {
   "cell_type": "markdown",
   "metadata": {},
   "source": [
    "4\\. Write the factorial function so that it a) does and b) does not use recursion."
   ]
  },
  {
   "cell_type": "code",
   "execution_count": 44,
   "metadata": {},
   "outputs": [
    {
     "name": "stdout",
     "output_type": "stream",
     "text": [
      "120\n",
      "6\n"
     ]
    }
   ],
   "source": [
    "#a\n",
    "def fac_r(x):\n",
    "    if x==1 or x==0:\n",
    "        return 1\n",
    "    else:\n",
    "        return x*fac_r(x-1)\n",
    "\n",
    "#b\n",
    "def fac_nor(x):\n",
    "    if x==1 or x==0:\n",
    "        return 1\n",
    "    else:\n",
    "        r=1\n",
    "        for i in range(2,x+1): r*=i\n",
    "        return r\n",
    "    \n",
    "print(fac_r(5))\n",
    "print(fac_nor(3))"
   ]
  },
  {
   "cell_type": "markdown",
   "metadata": {},
   "source": [
    "5\\. Use HOFs (zip in particular) to compute the weight of a circle, a disk and a sphere, assuming different radii and different densities:\n",
    "\n",
    "```python\n",
    "densities = {\"Al\":[0.5,1,2],\"Fe\":[3,4,5],\"Pb\": [15,20,30]}\n",
    "radii = [1,2,3]\n",
    "```\n",
    "\n",
    "where the entries of the dictionary's values are the linear, superficial and volumetric densities of the materials respectively.\n",
    "\n",
    "In particular define a list of three lambda functions using a comprehension that computes the circumference, the area and the volume for a given radius.\n"
   ]
  },
  {
   "cell_type": "code",
   "execution_count": 76,
   "metadata": {},
   "outputs": [
    {
     "name": "stdout",
     "output_type": "stream",
     "text": [
      "Material=Al, Radius=1, circle's weight=3.141593\n",
      "Material=Al, Radius=1, disk's weight=3.141593\n",
      "Material=Al, Radius=1, sphere's weight=8.377580\n",
      "Material=Al, Radius=2, circle's weight=6.283185\n",
      "Material=Al, Radius=2, disk's weight=12.566371\n",
      "Material=Al, Radius=2, sphere's weight=67.020643\n",
      "Material=Al, Radius=3, circle's weight=9.424778\n",
      "Material=Al, Radius=3, disk's weight=28.274334\n",
      "Material=Al, Radius=3, sphere's weight=226.194671\n",
      "Material=Fe, Radius=1, circle's weight=18.849556\n",
      "Material=Fe, Radius=1, disk's weight=12.566371\n",
      "Material=Fe, Radius=1, sphere's weight=20.943951\n",
      "Material=Fe, Radius=2, circle's weight=37.699112\n",
      "Material=Fe, Radius=2, disk's weight=50.265482\n",
      "Material=Fe, Radius=2, sphere's weight=167.551608\n",
      "Material=Fe, Radius=3, circle's weight=56.548668\n",
      "Material=Fe, Radius=3, disk's weight=113.097336\n",
      "Material=Fe, Radius=3, sphere's weight=565.486678\n",
      "Material=Pb, Radius=1, circle's weight=94.247780\n",
      "Material=Pb, Radius=1, disk's weight=62.831853\n",
      "Material=Pb, Radius=1, sphere's weight=125.663706\n",
      "Material=Pb, Radius=2, circle's weight=188.495559\n",
      "Material=Pb, Radius=2, disk's weight=251.327412\n",
      "Material=Pb, Radius=2, sphere's weight=1005.309649\n",
      "Material=Pb, Radius=3, circle's weight=282.743339\n",
      "Material=Pb, Radius=3, disk's weight=565.486678\n",
      "Material=Pb, Radius=3, sphere's weight=3392.920066\n"
     ]
    }
   ],
   "source": [
    "from math import pi\n",
    "func=[lambda x: 2*pi*x, lambda x: pi*x*x, lambda x: pi*x*x*x*4/3]\n",
    "densities = {\"Al\":[0.5,1,2],\"Fe\":[3,4,5],\"Pb\": [15,20,30]}\n",
    "radii = [1,2,3]\n",
    "shape=[\"circle\",\"disk\",\"sphere\"]\n",
    "            \n",
    "for m in densities:\n",
    "    for r in radii:\n",
    "        for f,d,s in zip(func,densities[m],shape):\n",
    "            print(\"Material=%s, Radius=%0i, %s's weight=%f\" %(m,r,s,d*f(r)))"
   ]
  },
  {
   "cell_type": "markdown",
   "metadata": {},
   "source": [
    "6\\. Edit the class defintion to add an instance attribute of is_hungry = True to the Dog class. Then add a method called eat() which changes the value of is_hungry to False when called. Figure out the best way to feed each dog and then output “My dogs are hungry.” if all are hungry or “My dogs are not hungry.” if all are not hungry. The final output should look like this:\n",
    "\n",
    "`I have 3 dogs. \n",
    "Tom is 6. \n",
    "Fletcher is 7. \n",
    "Larry is 9. \n",
    "And they're all mammals, of course. \n",
    "My dogs are not hungry.\n",
    "`\n",
    "\n",
    "```python\n",
    "# Parent class\n",
    "class Dog:\n",
    "\n",
    "    # Class attribute\n",
    "    species = 'mammal'\n",
    "\n",
    "    # Initializer / Instance attributes\n",
    "    def __init__(self, name, age):\n",
    "        self.name = name\n",
    "        self.age = age\n",
    "\n",
    "    # instance method\n",
    "    def description(self):\n",
    "        return \"{} is {} years old\".format(self.name, self.age)\n",
    "\n",
    "    # instance method\n",
    "    def speak(self, sound):\n",
    "        return \"{} says {}\".format(self.name, sound)\n",
    "\n",
    "# Child class (inherits from Dog class)\n",
    "class RussellTerrier(Dog):\n",
    "    def run(self, speed):\n",
    "        return \"{} runs {}\".format(self.name, speed)\n",
    "\n",
    "# Child class (inherits from Dog class)\n",
    "class Bulldog(Dog):\n",
    "    def run(self, speed):\n",
    "        return \"{} runs {}\".format(self.name, speed)\n",
    "```"
   ]
  },
  {
   "cell_type": "code",
   "execution_count": 6,
   "metadata": {},
   "outputs": [
    {
     "name": "stdout",
     "output_type": "stream",
     "text": [
      "I have 3 dogs.\n",
      "Tom is 6.\n",
      "Fletcher is 7.\n",
      "Larry is 9.\n",
      "And they're all mammal, of course.\n",
      "My dogs are not hungry.\n"
     ]
    }
   ],
   "source": [
    "# Parent class\n",
    "class Dog:\n",
    "\n",
    "    # Class attribute\n",
    "    species = 'mammal'\n",
    "\n",
    "    # Initializer / Instance attributes\n",
    "    def __init__(self, name, age):\n",
    "        self.name = name\n",
    "        self.age = age\n",
    "        self.is_hungry = True\n",
    "        \n",
    "    #eat method\n",
    "    def eat(self):\n",
    "        self.is_hungry = False\n",
    "\n",
    "    # instance method\n",
    "    def description(self):\n",
    "        return \"{} is {} years old\".format(self.name, self.age)\n",
    "\n",
    "    # instance method\n",
    "    def speak(self, sound):\n",
    "        return \"{} says {}\".format(self.name, sound)\n",
    "\n",
    "# Child class (inherits from Dog class)\n",
    "class RussellTerrier(Dog):\n",
    "    def run(self, speed):\n",
    "        return \"{} runs {}\".format(self.name, speed)\n",
    "\n",
    "# Child class (inherits from Dog class)\n",
    "class Bulldog(Dog):\n",
    "    def run(self, speed):\n",
    "        return \"{} runs {}\".format(self.name, speed)\n",
    "    \n",
    "# Output\n",
    "\n",
    "x=[Dog(\"Tom\",6),Dog(\"Fletcher\",7),Dog(\"Larry\",9)]\n",
    "\n",
    "print(\"I have %i dogs.\"%(len(x)))\n",
    "for dog in x:\n",
    "    print(\"%s is %i.\"%(dog.name, dog.age))\n",
    "\n",
    "print(\"And they're all %s, of course.\"%(dog.species))\n",
    "\n",
    "for dog in x:\n",
    "    if dog.is_hungry:\n",
    "        dog.eat()\n",
    "        \n",
    "hungry=0\n",
    "not_hungry=0\n",
    "for dog in x:\n",
    "    if dog.is_hungry:\n",
    "        hungry+=1\n",
    "    else: not_hungry+=1\n",
    "\n",
    "if hungry==len(x):print(\"My dogs are hungry.\")\n",
    "if not_hungry==len(x):print(\"My dogs are not hungry.\")"
   ]
  }
 ],
 "metadata": {
  "kernelspec": {
   "display_name": "Python 3",
   "language": "python",
   "name": "python3"
  },
  "language_info": {
   "codemirror_mode": {
    "name": "ipython",
    "version": 3
   },
   "file_extension": ".py",
   "mimetype": "text/x-python",
   "name": "python",
   "nbconvert_exporter": "python",
   "pygments_lexer": "ipython3",
   "version": "3.8.3"
  }
 },
 "nbformat": 4,
 "nbformat_minor": 2
}
