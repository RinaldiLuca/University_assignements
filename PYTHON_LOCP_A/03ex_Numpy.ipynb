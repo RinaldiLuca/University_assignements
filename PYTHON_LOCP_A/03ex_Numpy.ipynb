{
 "cells": [
  {
   "cell_type": "markdown",
   "metadata": {},
   "source": [
    "### Numpy basics"
   ]
  },
  {
   "cell_type": "markdown",
   "metadata": {},
   "source": [
    "1\\. Find the row, column and overall means for the following matrix:\n",
    "\n",
    "```python\n",
    "m = np.arange(12).reshape((3,4))\n",
    "```"
   ]
  },
  {
   "cell_type": "code",
   "execution_count": 22,
   "metadata": {},
   "outputs": [
    {
     "name": "stdout",
     "output_type": "stream",
     "text": [
      "The matrix: \n",
      " [[ 0  1  2  3]\n",
      " [ 4  5  6  7]\n",
      " [ 8  9 10 11]] \n",
      "\n",
      "Row mean: \n",
      " [[1.5]\n",
      " [5.5]\n",
      " [9.5]]\n",
      "Column mean: \n",
      " [4. 5. 6. 7.]\n",
      "Overall mean: \n",
      " 5.5\n"
     ]
    }
   ],
   "source": [
    "import numpy as np\n",
    "\n",
    "m = np.arange(12).reshape((3,4))\n",
    "row_mean=np.zeros((m.shape[0],1))\n",
    "column_mean=np.zeros(m.shape[1])\n",
    "for i in range(m.shape[0]):\n",
    "    row_mean[i]=np.mean(m[i,:])\n",
    "for i in range(m.shape[1]):\n",
    "    column_mean[i]=np.mean(m[:,i])\n",
    "print(\"The matrix: \\n {0} \\n\".format(m))\n",
    "print(\"Row mean: \\n\",row_mean)\n",
    "print(\"Column mean: \\n\",column_mean)\n",
    "print(\"Overall mean: \\n\",np.mean(m))"
   ]
  },
  {
   "cell_type": "markdown",
   "metadata": {},
   "source": [
    "2\\. Find the outer product of the following two vecotrs\n",
    "\n",
    "```python\n",
    "u = np.array([1,3,5,7])\n",
    "v = np.array([2,4,6,8])\n",
    "```\n",
    "\n",
    "Do this in the following ways:\n",
    "\n",
    "   * Using the function outer in numpy\n",
    "   * Using a nested for loop or list comprehension\n",
    "   * Using numpy broadcasting operatoins\n"
   ]
  },
  {
   "cell_type": "code",
   "execution_count": 23,
   "metadata": {},
   "outputs": [
    {
     "name": "stdout",
     "output_type": "stream",
     "text": [
      "Outer built-in function: \n",
      " [[ 2  4  6  8]\n",
      " [ 6 12 18 24]\n",
      " [10 20 30 40]\n",
      " [14 28 42 56]]\n",
      "Outer w/ list comprehension: \n",
      " [[ 2  4  6  8]\n",
      " [ 6 12 18 24]\n",
      " [10 20 30 40]\n",
      " [14 28 42 56]]\n",
      "Outer w/ broadcasting: \n",
      " [[ 2  4  6  8]\n",
      " [ 6 12 18 24]\n",
      " [10 20 30 40]\n",
      " [14 28 42 56]]\n"
     ]
    }
   ],
   "source": [
    "u = np.array([1,3,5,7])\n",
    "v = np.array([2,4,6,8])\n",
    "\n",
    "print(\"Outer built-in function: \\n\",np.outer(u,v))\n",
    "print(\"Outer w/ list comprehension: \\n\",np.array([[i*j for j in v] for i in u]))\n",
    "print(\"Outer w/ broadcasting: \\n\",u[:,np.newaxis]*v)"
   ]
  },
  {
   "cell_type": "markdown",
   "metadata": {},
   "source": [
    "3\\. Create a 10 by 6 matrix of random uniform numbers. Set all rows with any entry less than 0.1 to be zero\n",
    "\n",
    "Hint: Use the following numpy functions - np.random.random, np.any as well as Boolean indexing and the axis argument."
   ]
  },
  {
   "cell_type": "code",
   "execution_count": 24,
   "metadata": {},
   "outputs": [
    {
     "name": "stdout",
     "output_type": "stream",
     "text": [
      "Original matrix: \n",
      " [[0.69646919 0.28613933 0.22685145 0.55131477 0.71946897 0.42310646]\n",
      " [0.9807642  0.68482974 0.4809319  0.39211752 0.34317802 0.72904971]\n",
      " [0.43857224 0.0596779  0.39804426 0.73799541 0.18249173 0.17545176]\n",
      " [0.53155137 0.53182759 0.63440096 0.84943179 0.72445532 0.61102351]\n",
      " [0.72244338 0.32295891 0.36178866 0.22826323 0.29371405 0.63097612]\n",
      " [0.09210494 0.43370117 0.43086276 0.4936851  0.42583029 0.31226122]\n",
      " [0.42635131 0.89338916 0.94416002 0.50183668 0.62395295 0.1156184 ]\n",
      " [0.31728548 0.41482621 0.86630916 0.25045537 0.48303426 0.98555979]\n",
      " [0.51948512 0.61289453 0.12062867 0.8263408  0.60306013 0.54506801]\n",
      " [0.34276383 0.30412079 0.41702221 0.68130077 0.87545684 0.51042234]] \n",
      "\n",
      "Modified matrix: \n",
      " [[0.69646919 0.28613933 0.22685145 0.55131477 0.71946897 0.42310646]\n",
      " [0.9807642  0.68482974 0.4809319  0.39211752 0.34317802 0.72904971]\n",
      " [0.         0.         0.         0.         0.         0.        ]\n",
      " [0.53155137 0.53182759 0.63440096 0.84943179 0.72445532 0.61102351]\n",
      " [0.72244338 0.32295891 0.36178866 0.22826323 0.29371405 0.63097612]\n",
      " [0.         0.         0.         0.         0.         0.        ]\n",
      " [0.42635131 0.89338916 0.94416002 0.50183668 0.62395295 0.1156184 ]\n",
      " [0.31728548 0.41482621 0.86630916 0.25045537 0.48303426 0.98555979]\n",
      " [0.51948512 0.61289453 0.12062867 0.8263408  0.60306013 0.54506801]\n",
      " [0.34276383 0.30412079 0.41702221 0.68130077 0.87545684 0.51042234]]\n"
     ]
    }
   ],
   "source": [
    "import numpy.random as npr\n",
    "\n",
    "npr.seed(123)\n",
    "a=npr.random((10,6))\n",
    "print(\"Original matrix: \\n\",a,\"\\n\")\n",
    "a[np.any(np.array(a <= 0.1, \"bool\"),axis=1),:]=0\n",
    "print(\"Modified matrix: \\n\",a)"
   ]
  },
  {
   "cell_type": "code",
   "execution_count": 25,
   "metadata": {},
   "outputs": [],
   "source": [
    "#import numpy.random as npr\n",
    "#npr.seed(123)\n",
    "#a=npr.random((10,6))\n",
    "#print(\"Original matrix: \\n\",a,\"\\n\")\n",
    "#for i in range(10):\n",
    "#    if np.any(np.array(a <= 0.1, \"bool\")[i,:]): a[i,:]=0\n",
    "#print(\"Modified matrix: \\n\",a)"
   ]
  },
  {
   "cell_type": "markdown",
   "metadata": {},
   "source": [
    "4\\. Use np.linspace to create an array of 100 numbers between 0 and 2π (includsive).\n",
    "\n",
    "  * Extract every 10th element using slice notation\n",
    "  * Reverse the array using slice notation\n",
    "  * Extract elements where the absolute difference between the sine and cosine functions evaluated at that element is less than 0.1\n",
    "  * Make a plot showing the sin and cos functions and indicate where they are close"
   ]
  },
  {
   "cell_type": "code",
   "execution_count": 26,
   "metadata": {},
   "outputs": [
    {
     "name": "stdout",
     "output_type": "stream",
     "text": [
      "First point: \n",
      " [0.57119866 1.20586385 1.84052903 2.47519421 3.10985939 3.74452458\n",
      " 4.37918976 5.01385494 5.64852012 6.28318531]\n",
      "Second point: \n",
      " [6.28318531 6.21971879 6.15625227 6.09278575 6.02931923 5.96585272\n",
      " 5.9023862  5.83891968 5.77545316 5.71198664 5.64852012 5.58505361\n",
      " 5.52158709 5.45812057 5.39465405 5.33118753 5.26772102 5.2042545\n",
      " 5.14078798 5.07732146 5.01385494 4.95038842 4.88692191 4.82345539\n",
      " 4.75998887 4.69652235 4.63305583 4.56958931 4.5061228  4.44265628\n",
      " 4.37918976 4.31572324 4.25225672 4.1887902  4.12532369 4.06185717\n",
      " 3.99839065 3.93492413 3.87145761 3.8079911  3.74452458 3.68105806\n",
      " 3.61759154 3.55412502 3.4906585  3.42719199 3.36372547 3.30025895\n",
      " 3.23679243 3.17332591 3.10985939 3.04639288 2.98292636 2.91945984\n",
      " 2.85599332 2.7925268  2.72906028 2.66559377 2.60212725 2.53866073\n",
      " 2.47519421 2.41172769 2.34826118 2.28479466 2.22132814 2.15786162\n",
      " 2.0943951  2.03092858 1.96746207 1.90399555 1.84052903 1.77706251\n",
      " 1.71359599 1.65012947 1.58666296 1.52319644 1.45972992 1.3962634\n",
      " 1.33279688 1.26933037 1.20586385 1.14239733 1.07893081 1.01546429\n",
      " 0.95199777 0.88853126 0.82506474 0.76159822 0.6981317  0.63466518\n",
      " 0.57119866 0.50773215 0.44426563 0.38079911 0.31733259 0.25386607\n",
      " 0.19039955 0.12693304 0.06346652 0.        ]\n",
      "Third point: \n",
      " [0.76159822 0.82506474 3.87145761 3.93492413]\n"
     ]
    },
    {
     "data": {
      "image/png": "[encoded data removed]",
      "text/plain": [
       "<Figure size 432x288 with 1 Axes>"
      ]
     },
     "metadata": {
      "needs_background": "light"
     },
     "output_type": "display_data"
    }
   ],
   "source": [
    "import matplotlib.pyplot as plt\n",
    "\n",
    "a=np.linspace(0,2*np.pi,100)\n",
    "#print(\"Original array: \\n\",a)\n",
    "print(\"First point: \\n\", a[9::10])\n",
    "print(\"Second point: \\n\", a[::-1])\n",
    "print(\"Third point: \\n\", a[abs(np.sin(a)-np.cos(a))<0.1])\n",
    "%matplotlib inline \n",
    "plt.vlines(a[abs(np.sin(a)-np.cos(a))<0.1],-1,1,colors=\"y\")\n",
    "plt.plot(a, np.sin(a),a,np.cos(a));"
   ]
  },
  {
   "cell_type": "markdown",
   "metadata": {},
   "source": [
    "5\\. Create a matrix that shows the 10 by 10 multiplication table.\n",
    "\n",
    " * Find the trace of the matrix\n",
    " * Extract the anto-diagonal (this should be ```array([10, 18, 24, 28, 30, 30, 28, 24, 18, 10])```)\n",
    " * Extract the diagnoal offset by 1 upwards (this should be ```array([ 2,  6, 12, 20, 30, 42, 56, 72, 90])```)"
   ]
  },
  {
   "cell_type": "code",
   "execution_count": 27,
   "metadata": {},
   "outputs": [
    {
     "name": "stdout",
     "output_type": "stream",
     "text": [
      "The matrix: \n",
      " [[  1   2   3   4   5   6   7   8   9  10]\n",
      " [  2   4   6   8  10  12  14  16  18  20]\n",
      " [  3   6   9  12  15  18  21  24  27  30]\n",
      " [  4   8  12  16  20  24  28  32  36  40]\n",
      " [  5  10  15  20  25  30  35  40  45  50]\n",
      " [  6  12  18  24  30  36  42  48  54  60]\n",
      " [  7  14  21  28  35  42  49  56  63  70]\n",
      " [  8  16  24  32  40  48  56  64  72  80]\n",
      " [  9  18  27  36  45  54  63  72  81  90]\n",
      " [ 10  20  30  40  50  60  70  80  90 100]]\n",
      "Trace:  385\n",
      "Anti-diagonal: \n",
      " [10 18 24 28 30 30 28 24 18 10]\n",
      "Diagonal w/ offset: \n",
      " [ 2  6 12 20 30 42 56 72 90]\n"
     ]
    }
   ],
   "source": [
    "a=np.outer(np.arange(1,11),np.arange(1,11))\n",
    "print(\"The matrix: \\n\",a)\n",
    "#print(np.diag(a,-1))\n",
    "print(\"Trace: \", np.sum(np.diag(a)))\n",
    "print(\"Anti-diagonal: \\n\",np.diag(a[::-1,]))\n",
    "print(\"Diagonal w/ offset: \\n\", np.diag(a,-1))"
   ]
  },
  {
   "cell_type": "markdown",
   "metadata": {},
   "source": [
    "6\\. Use broadcasting to create a grid of distances\n",
    "\n",
    "Route 66 crosses the following cities in the US: Chicago, Springfield, Saint-Louis, Tulsa, Oklahoma City, Amarillo, Santa Fe, Albuquerque, Flagstaff, Los Angeles\n",
    "The corresponding positions in miles are: 0, 198, 303, 736, 871, 1175, 1475, 1544, 1913, 2448\n",
    "\n",
    "  * Construct a 2D grid of distances among each city along Route 66\n",
    "  * Convert that in km (those savages...)"
   ]
  },
  {
   "cell_type": "code",
   "execution_count": 28,
   "metadata": {},
   "outputs": [
    {
     "name": "stdout",
     "output_type": "stream",
     "text": [
      "The 2-D grid: \n",
      " [[   0  198  303  736  871 1175 1475 1544 1913 2448]\n",
      " [ 198    0  105  538  673  977 1277 1346 1715 2250]\n",
      " [ 303  105    0  433  568  872 1172 1241 1610 2145]\n",
      " [ 736  538  433    0  135  439  739  808 1177 1712]\n",
      " [ 871  673  568  135    0  304  604  673 1042 1577]\n",
      " [1175  977  872  439  304    0  300  369  738 1273]\n",
      " [1475 1277 1172  739  604  300    0   69  438  973]\n",
      " [1544 1346 1241  808  673  369   69    0  369  904]\n",
      " [1913 1715 1610 1177 1042  738  438  369    0  535]\n",
      " [2448 2250 2145 1712 1577 1273  973  904  535    0]] \n",
      "\n",
      "The 2-D grid in km: \n",
      " [[   0.        318.650112  487.631232 1184.477184 1401.738624 1890.9792\n",
      "  2373.7824   2484.827136 3078.675072 3939.674112]\n",
      " [ 318.650112    0.        168.98112   865.827072 1083.088512 1572.329088\n",
      "  2055.132288 2166.177024 2760.02496  3621.024   ]\n",
      " [ 487.631232  168.98112     0.        696.845952  914.107392 1403.347968\n",
      "  1886.151168 1997.195904 2591.04384  3452.04288 ]\n",
      " [1184.477184  865.827072  696.845952    0.        217.26144   706.502016\n",
      "  1189.305216 1300.349952 1894.197888 2755.196928]\n",
      " [1401.738624 1083.088512  914.107392  217.26144     0.        489.240576\n",
      "   972.043776 1083.088512 1676.936448 2537.935488]\n",
      " [1890.9792   1572.329088 1403.347968  706.502016  489.240576    0.\n",
      "   482.8032    593.847936 1187.695872 2048.694912]\n",
      " [2373.7824   2055.132288 1886.151168 1189.305216  972.043776  482.8032\n",
      "     0.        111.044736  704.892672 1565.891712]\n",
      " [2484.827136 2166.177024 1997.195904 1300.349952 1083.088512  593.847936\n",
      "   111.044736    0.        593.847936 1454.846976]\n",
      " [3078.675072 2760.02496  2591.04384  1894.197888 1676.936448 1187.695872\n",
      "   704.892672  593.847936    0.        860.99904 ]\n",
      " [3939.674112 3621.024    3452.04288  2755.196928 2537.935488 2048.694912\n",
      "  1565.891712 1454.846976  860.99904     0.      ]]\n"
     ]
    }
   ],
   "source": [
    "a=np.array([0, 198, 303, 736, 871, 1175, 1475, 1544, 1913, 2448])\n",
    "grid=abs(a[:,np.newaxis]-a)\n",
    "print(\"The 2-D grid: \\n\",grid,\"\\n\")\n",
    "print(\"The 2-D grid in km: \\n\",grid*1.609344)"
   ]
  },
  {
   "cell_type": "markdown",
   "metadata": {},
   "source": [
    "7\\. Prime numbers sieve: compute the prime numbers in the 0-N (N=99 to start with) range with a sieve (mask).\n",
    "  * Constract a shape (100,) boolean array, the mask\n",
    "  * Identify the multiples of each number starting from 2 and set accordingly the corresponding mask element\n",
    "  * Apply the mask to obtain an array of ordered prime numbers\n",
    "  * Check the performances (timeit); how does it scale with N?\n",
    "  * Implement the optimization suggested in the [sieve of Eratosthenes](https://en.wikipedia.org/wiki/Sieve_of_Eratosthenes)"
   ]
  },
  {
   "cell_type": "code",
   "execution_count": 29,
   "metadata": {},
   "outputs": [
    {
     "name": "stdout",
     "output_type": "stream",
     "text": [
      "[ 2  3  5  7 11 13 17 19 23 29 31 37 41 43 47 53 59 61 67 71 73 79 83 89\n",
      " 97]\n"
     ]
    }
   ],
   "source": [
    "def eratosthenes(N):\n",
    "    mask=np.ones(N,\"bool\")\n",
    "    #print(mask)\n",
    "    i=2\n",
    "    while i*i<N:\n",
    "        mask[2*i::i]=False \n",
    "        i+=1\n",
    "    mask[:2]=False\n",
    "    return np.arange(N)[mask]\n",
    "\n",
    "print(eratosthenes(100))\n",
    "#%timeit eratosthenes(100000)\n",
    "# N=100     9.08 µs ± 406 ns per loop\n",
    "# N=1000    23.7 µs ± 143 ns per loop\n",
    "# N=10000   104 µs ± 1.4 µs per loop\n",
    "# N=100000  846 µs ± 2.15 µs per loop"
   ]
  },
  {
   "cell_type": "markdown",
   "metadata": {},
   "source": [
    "8\\. Diffusion using random walk\n",
    "\n",
    "Consider a simple random walk process: at each step in time, a walker jumps right or left (+1 or -1) with equal probability. The goal is to find the typical distance from the origin of a random walker after a given amount of time. \n",
    "To do that, let's simulate many walkers and create a 2D array with each walker as a raw and the actual time evolution as columns\n",
    "\n",
    "  * Take 1000 walkers and let them walk for 200 steps\n",
    "  * Use randint to create a 2D array of size walkers x steps with values -1 or 1\n",
    "  * Build the actual walking distances for each walker (i.e. another 2D array \"summing on each raw\")\n",
    "  * Take the square of that 2D array (elementwise)\n",
    "  * Compute the mean of the squared distances at each step (i.e. the mean along the columns)\n",
    "  * Plot the average distances (sqrt(distance\\*\\*2)) as a function of time (step)\n",
    "  \n",
    "Did you get what you expected?"
   ]
  },
  {
   "cell_type": "code",
   "execution_count": 35,
   "metadata": {},
   "outputs": [
    {
     "name": "stdout",
     "output_type": "stream",
     "text": [
      "Matrix of walkers x steps: \n",
      " [[-1  1 -1 ... -1  1 -1]\n",
      " [ 1  1 -1 ...  1 -1 -1]\n",
      " [ 1  1 -1 ... -1 -1  1]\n",
      " ...\n",
      " [-1  1  1 ... -1  1  1]\n",
      " [-1 -1 -1 ...  1 -1 -1]\n",
      " [-1  1 -1 ... -1  1 -1]] \n",
      "\n",
      "Matrix of actual distances: \n",
      " [[ -1   0  -1 ...  -4  -3  -4]\n",
      " [  1   2   1 ...  18  17  16]\n",
      " [  1   2   1 ...  16  15  16]\n",
      " ...\n",
      " [ -1   0   1 ... -18 -17 -16]\n",
      " [ -1  -2  -3 ...   4   3   2]\n",
      " [ -1   0  -1 ...  24  25  24]] \n",
      "\n",
      "Matrix of squared distances: \n",
      " [[  1   0   1 ...  16   9  16]\n",
      " [  1   4   1 ... 324 289 256]\n",
      " [  1   4   1 ... 256 225 256]\n",
      " ...\n",
      " [  1   0   1 ... 324 289 256]\n",
      " [  1   4   9 ...  16   9   4]\n",
      " [  1   0   1 ... 576 625 576]] \n",
      "\n"
     ]
    },
    {
     "data": {
      "image/png": "[encoded data removed]",
      "text/plain": [
       "<Figure size 432x288 with 1 Axes>"
      ]
     },
     "metadata": {
      "needs_background": "light"
     },
     "output_type": "display_data"
    }
   ],
   "source": [
    "npr.seed(123)\n",
    "\n",
    "#grid=npr.choice((-1,1),(1000,200)) #simpler expression but less efficient\n",
    "grid=npr.randint(2,size=(1000,200))\n",
    "grid[grid==0]=-1\n",
    "print(\"Matrix of walkers x steps: \\n\",grid,\"\\n\")\n",
    "\n",
    "#%timeit grid=npr.randint(2,size=(1000,200)) #754 µs ± 4.91 µs per loop\n",
    "#%timeit grid[grid==0]=-1                    #73.3 µs ± 944 ns per loop\n",
    "#%timeit grid=npr.choice((-1,1),(1000,200))  #1.06 ms ± 5.12 µs per loop\n",
    "\n",
    "# actual walking distance for each walker\n",
    "distances=np.array([[np.sum(grid[i,:j+1]) for j in range(grid.shape[1])] for i in range(grid.shape[0])])\n",
    "print(\"Matrix of actual distances: \\n\",distances,\"\\n\")\n",
    "    \n",
    "# square of the previous array\n",
    "print(\"Matrix of squared distances: \\n\",distances**2,\"\\n\")\n",
    "\n",
    "# mean squared distance\n",
    "mean_2distances=np.array([np.mean(distances[:,i]**2) for i in range(distances.shape[1])])\n",
    "\n",
    "%matplotlib inline\n",
    "plt.plot(np.arange(200),mean_2distances**.5);\n"
   ]
  },
  {
   "cell_type": "markdown",
   "metadata": {},
   "source": [
    "9\\. Analyze a data file \n",
    "  * Download the population of hares, lynxes and carrots at the beginning of the last century.\n",
    "    ```python\n",
    "    ! wget https://www.dropbox.com/s/3vigxoqayo389uc/populations.txt\n",
    "    ```\n",
    "\n",
    "  * Check the content by looking within the file\n",
    "  * Load the data (use an appropriate numpy method) into a 2D array\n",
    "  * Create arrays out of the columns, the arrays being (in order): *year*, *hares*, *lynxes*, *carrots* \n",
    "  * Plot the 3 populations over the years\n",
    "  * Compute the main statistical properties of the dataset (mean, std, correlations, etc.)\n",
    "  * Which species has the highest population each year?\n",
    "\n",
    "Do you feel there is some evident correlation here? [Studies](https://www.enr.gov.nt.ca/en/services/lynx/lynx-snowshoe-hare-cycle) tend to believe so."
   ]
  },
  {
   "cell_type": "code",
   "execution_count": 87,
   "metadata": {},
   "outputs": [
    {
     "name": "stdout",
     "output_type": "stream",
     "text": [
      "Check the content with cat: \n",
      "\n",
      "# year\thare\tlynx\tcarrot\n",
      "1900\t30e3\t4e3\t48300\n",
      "1901\t47.2e3\t6.1e3\t48200\n",
      "1902\t70.2e3\t9.8e3\t41500\n",
      "1903\t77.4e3\t35.2e3\t38200\n",
      "1904\t36.3e3\t59.4e3\t40600\n",
      "1905\t20.6e3\t41.7e3\t39800\n",
      "1906\t18.1e3\t19e3\t38600\n",
      "1907\t21.4e3\t13e3\t42300\n",
      "1908\t22e3\t8.3e3\t44500\n",
      "1909\t25.4e3\t9.1e3\t42100\n",
      "1910\t27.1e3\t7.4e3\t46000\n",
      "1911\t40.3e3\t8e3\t46800\n",
      "1912\t57e3\t12.3e3\t43800\n",
      "1913\t76.6e3\t19.5e3\t40900\n",
      "1914\t52.3e3\t45.7e3\t39400\n",
      "1915\t19.5e3\t51.1e3\t39000\n",
      "1916\t11.2e3\t29.7e3\t36700\n",
      "1917\t7.6e3\t15.8e3\t41800\n",
      "1918\t14.6e3\t9.7e3\t43300\n",
      "1919\t16.2e3\t10.1e3\t41300\n",
      "1920\t24.7e3\t8.6e3\t47300\n",
      "\n",
      "Statistical properties of hares: \n",
      "sum : 715700.0\n",
      "min : 7600.0\n",
      "argmin : 17\n",
      "mean : 34080.95238095238\n",
      "median : 25400.0\n",
      "std : 20897.906458089667\n",
      "\n",
      "Statistical properties of lynxes: \n",
      "sum : 423500.0\n",
      "min : 4000.0\n",
      "argmin : 0\n",
      "mean : 20166.666666666668\n",
      "median : 12300.0\n",
      "std : 16254.591536908763\n",
      "\n",
      "Statistical properties of carrots: \n",
      "sum : 890400.0\n",
      "min : 36700.0\n",
      "argmin : 16\n",
      "mean : 42400.0\n",
      "median : 41800.0\n",
      "std : 3322.5062255844787\n",
      "\n",
      "Highest population species per year:\n",
      "1900: carrots\n",
      "1901: carrots\n",
      "1902: hares\n",
      "1903: hares\n",
      "1904: lynxes\n",
      "1905: lynxes\n",
      "1906: carrots\n",
      "1907: carrots\n",
      "1908: carrots\n",
      "1909: carrots\n",
      "1910: carrots\n",
      "1911: carrots\n",
      "1912: hares\n",
      "1913: hares\n",
      "1914: hares\n",
      "1915: lynxes\n",
      "1916: carrots\n",
      "1917: carrots\n",
      "1918: carrots\n",
      "1919: carrots\n",
      "1920: carrots\n"
     ]
    },
    {
     "data": {
      "image/png": "[encoded data removed]",
      "text/plain": [
       "<Figure size 432x288 with 1 Axes>"
      ]
     },
     "metadata": {
      "needs_background": "light"
     },
     "output_type": "display_data"
    }
   ],
   "source": [
    "print(\"Check the content with cat: \\n\")\n",
    "! cat populations.txt\n",
    "\n",
    "data = np.loadtxt('populations.txt')\n",
    "year, hares, lynxes, carrots = data.T\n",
    "\n",
    "species = {\n",
    "    'hares': hares,\n",
    "    'lynxes': lynxes,\n",
    "    'carrots': carrots,\n",
    "}\n",
    "\n",
    "%matplotlib inline\n",
    "plt.plot(year,hares,year,lynxes,year,carrots);\n",
    "\n",
    "for x in species:\n",
    "    print(\"\\nStatistical properties of %s: \"%(x))\n",
    "    for function in ['sum','min','argmin','mean','median','std']:\n",
    "        print (function,\":\", getattr(np, function)(species[x]))\n",
    "        \n",
    "print(\"\\nHighest population species per year:\")\n",
    "for x in range(len(year)):\n",
    "    if (np.argmax(data[x,:]))==3: print(\"%i: carrots\"%(year[x]))\n",
    "    elif (np.argmax(data[x,:]))==2: print(\"%i: lynxes\"%(year[x]))\n",
    "    else: print(\"%i: hares\"%(year[x]))"
   ]
  },
  {
   "cell_type": "code",
   "execution_count": null,
   "metadata": {},
   "outputs": [],
   "source": []
  }
 ],
 "metadata": {
  "kernelspec": {
   "display_name": "Python 3",
   "language": "python",
   "name": "python3"
  },
  "language_info": {
   "codemirror_mode": {
    "name": "ipython",
    "version": 3
   },
   "file_extension": ".py",
   "mimetype": "text/x-python",
   "name": "python",
   "nbconvert_exporter": "python",
   "pygments_lexer": "ipython3",
   "version": "3.8.3"
  }
 },
 "nbformat": 4,
 "nbformat_minor": 2
}
